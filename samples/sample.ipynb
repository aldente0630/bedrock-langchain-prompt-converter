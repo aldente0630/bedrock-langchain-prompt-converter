{
 "cells": [
  {
   "metadata": {},
   "cell_type": "markdown",
   "source": [
    "# Managing LangChain Prompts with Amazon Bedrock Prompt Management\n",
    "This notebook demonstrates how to use Amazon Bedrock Prompt Management to manage LangChain prompts."
   ],
   "id": "c804a50d786bf78b"
  },
  {
   "metadata": {},
   "cell_type": "code",
   "outputs": [],
   "execution_count": null,
   "source": [
    "%load_ext autoreload\n",
    "%autoreload 2"
   ],
   "id": "e18522f213677419"
  },
  {
   "metadata": {},
   "cell_type": "code",
   "outputs": [],
   "execution_count": null,
   "source": [
    "import os\n",
    "import sys\n",
    "from langchain_core.prompts import (\n",
    "    ChatPromptTemplate,\n",
    "    HumanMessagePromptTemplate,\n",
    "    SystemMessagePromptTemplate,\n",
    ")\n",
    "\n",
    "sys.path.append(os.pardir)\n",
    "from src import ChatModelId, PromptManager"
   ],
   "id": "8eee51a0f49de1fe"
  },
  {
   "metadata": {},
   "cell_type": "markdown",
   "source": [
    "## Creating a Chat Prompt Template\n",
    "We start by creating a ChatPromptTemplate with a system message and a human message. This template is designed to answer astronomical questions."
   ],
   "id": "d27ee4641836ff8f"
  },
  {
   "metadata": {},
   "cell_type": "code",
   "outputs": [],
   "execution_count": null,
   "source": [
    "chat_prompt = ChatPromptTemplate.from_messages(\n",
    "    [\n",
    "        SystemMessagePromptTemplate.from_template(\n",
    "            \"This system can answer astronomical questions.\"\n",
    "        ),\n",
    "        HumanMessagePromptTemplate.from_template(\"{user_input}\"),\n",
    "    ]\n",
    ")\n",
    "\n",
    "print(chat_prompt)"
   ],
   "id": "360d72b280e6f76c"
  },
  {
   "metadata": {},
   "cell_type": "markdown",
   "source": [
    "## Initializing the Prompt Manager\n",
    "We initialize the PromptManager with the AWS region where we want to manage our prompts."
   ],
   "id": "fa3942c90e94e25e"
  },
  {
   "metadata": {},
   "cell_type": "code",
   "outputs": [],
   "execution_count": null,
   "source": [
    "prompt_manager = PromptManager(\n",
    "    {\n",
    "        \"region_name\": \"us-west-2\"\n",
    "    }\n",
    ")"
   ],
   "id": "93e0bec826e6a52f"
  },
  {
   "metadata": {},
   "cell_type": "markdown",
   "source": [
    "## Creating a Prompt\n",
    "We use the prompt manager to create a new prompt in Amazon Bedrock, associating it with the Claude v3.5 Sonnet model."
   ],
   "id": "5eeb6ca1ca9d691f"
  },
  {
   "metadata": {},
   "cell_type": "code",
   "outputs": [],
   "execution_count": null,
   "source": [
    "_ = prompt_manager.create_prompt(\n",
    "    chat_prompt,\n",
    "    \"astronomical_questions\",\n",
    "    model_id=ChatModelId.CLAUDE_V3_5_SONNET.value,\n",
    ")"
   ],
   "id": "9fe59f30c2e92be9"
  },
  {
   "metadata": {},
   "cell_type": "markdown",
   "source": [
    "## Creating a Prompt Version\n",
    "After creating the prompt, we create a version for it. This allows us to manage different iterations of the same prompt."
   ],
   "id": "e610eb8883172a75"
  },
  {
   "metadata": {},
   "cell_type": "code",
   "outputs": [],
   "execution_count": null,
   "source": "_ = prompt_manager.create_prompt_version()",
   "id": "5b431aa31c25d63f"
  },
  {
   "metadata": {},
   "cell_type": "markdown",
   "source": [
    "## Retrieving a Prompt\n",
    "We can retrieve a specific version of a prompt using its name and version number."
   ],
   "id": "f8ffde366b67e3e"
  },
  {
   "metadata": {},
   "cell_type": "code",
   "outputs": [],
   "execution_count": null,
   "source": [
    "retrieved_prompt = prompt_manager.get_prompt(name=\"astronomical_questions\", prompt_version=1)\n",
    "\n",
    "print(retrieved_prompt)"
   ],
   "id": "2a6490a6f4a88212"
  },
  {
   "metadata": {},
   "cell_type": "markdown",
   "source": [
    "## Deleting a Prompt\n",
    "Finally, we demonstrate how to delete a prompt when it's no longer needed."
   ],
   "id": "56960e6383856ce6"
  },
  {
   "metadata": {},
   "cell_type": "code",
   "outputs": [],
   "execution_count": null,
   "source": "_ = prompt_manager.delete_prompt()",
   "id": "b0de259e4b26cdd6"
  }
 ],
 "metadata": {
  "kernelspec": {
   "display_name": "Python 3 (ipykernel)",
   "language": "python",
   "name": "python3"
  },
  "language_info": {
   "codemirror_mode": {
    "name": "ipython",
    "version": 3
   },
   "file_extension": ".py",
   "mimetype": "text/x-python",
   "name": "python",
   "nbconvert_exporter": "python",
   "pygments_lexer": "ipython3",
   "version": "3.11.10"
  }
 },
 "nbformat": 4,
 "nbformat_minor": 5
}
